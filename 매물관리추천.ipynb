{
  "nbformat": 4,
  "nbformat_minor": 0,
  "metadata": {
    "colab": {
      "provenance": [],
      "mount_file_id": "1iMp_jijPtE8JWFQz3wE4n5bIVsfXepP_",
      "authorship_tag": "ABX9TyOMioIkHgdnunz5GRPI2oVU",
      "include_colab_link": true
    },
    "kernelspec": {
      "name": "python3",
      "display_name": "Python 3"
    },
    "language_info": {
      "name": "python"
    }
  },
  "cells": [
    {
      "cell_type": "markdown",
      "metadata": {
        "id": "view-in-github",
        "colab_type": "text"
      },
      "source": [
        "<a href=\"https://colab.research.google.com/github/jjeongab/property_management/blob/main/%EB%A7%A4%EB%AC%BC%EA%B4%80%EB%A6%AC%EC%B6%94%EC%B2%9C.ipynb\" target=\"_parent\"><img src=\"https://colab.research.google.com/assets/colab-badge.svg\" alt=\"Open In Colab\"/></a>"
      ]
    },
    {
      "cell_type": "markdown",
      "source": [
        "# <img align=\"left\" style=\" width:40px;  \" > Content-Based Filtering on 매물관리\n",
        "\n",
        "In this exercise, you will implement content-based filtering using a neural network to build a recommender system for movies.\n"
      ],
      "metadata": {
        "id": "4oHslD08y3ll"
      }
    },
    {
      "cell_type": "code",
      "source": [
        "!pip install pymysql"
      ],
      "metadata": {
        "id": "5w_wCk1JZzZf"
      },
      "execution_count": null,
      "outputs": []
    },
    {
      "cell_type": "code",
      "execution_count": null,
      "metadata": {
        "id": "-cY4Vk6PulVb"
      },
      "outputs": [],
      "source": [
        "import pandas as pd\n",
        "import pymysql\n",
        "import matplotlib.pyplot as plt\n",
        "%matplotlib inline\n",
        "import seaborn as sns\n",
        "import numpy as np\n",
        "sns.set()\n",
        "import re\n",
        "import os\n",
        "import random\n",
        "import tensorflow as tf\n",
        "from tensorflow import keras\n",
        "from sklearn.preprocessing import StandardScaler, MinMaxScaler\n",
        "from sklearn.model_selection import train_test_split"
      ]
    },
    {
      "cell_type": "code",
      "source": [
        "#matplotlib한글깨짐 방지\n",
        "!sudo apt-get install -y fonts-nanum\n",
        "!sudo fc-cache -fv\n",
        "!rm ~/.cache/matplotlib -rf"
      ],
      "metadata": {
        "id": "MtEcyfe7_peq",
        "colab": {
          "base_uri": "https://localhost:8080/"
        },
        "outputId": "ed618523-1133-4725-dc42-d87ca10bad8c"
      },
      "execution_count": null,
      "outputs": [
        {
          "output_type": "stream",
          "name": "stdout",
          "text": [
            "fc-cache: succeeded\n"
          ]
        }
      ]
    },
    {
      "cell_type": "code",
      "source": [
        "plt.rc('font', family='NanumBarunGothic')"
      ],
      "metadata": {
        "id": "RazwNLrOAZxi"
      },
      "execution_count": null,
      "outputs": []
    },
    {
      "cell_type": "markdown",
      "source": [
        "###Data crawling for trade area analysis"
      ],
      "metadata": {
        "id": "R9oDnjw-dXlx"
      }
    },
    {
      "cell_type": "code",
      "source": [
        "from google.colab import drive\n",
        "drive.mount('/content/drive')"
      ],
      "metadata": {
        "id": "nhLT_1lQ5tfA",
        "colab": {
          "base_uri": "https://localhost:8080/"
        },
        "outputId": "e2495858-783a-4e29-9213-b65573590416"
      },
      "execution_count": null,
      "outputs": [
        {
          "output_type": "stream",
          "name": "stdout",
          "text": [
            "Drive already mounted at /content/drive; to attempt to forcibly remount, call drive.mount(\"/content/drive\", force_remount=True).\n"
          ]
        }
      ]
    },
    {
      "cell_type": "code",
      "source": [
        "dfs = dict() #dictionary where key corresponds to region and item responds to the data accordingly to that region"
      ],
      "metadata": {
        "id": "3llbgzfbN13a"
      },
      "execution_count": null,
      "outputs": []
    },
    {
      "cell_type": "code",
      "source": [
        "directory = '/content/drive/MyDrive/상가(상권)정보_20230630'"
      ],
      "metadata": {
        "id": "maT_eACJOIr8"
      },
      "execution_count": null,
      "outputs": []
    },
    {
      "cell_type": "code",
      "source": [
        "for filename in os.listdir(directory):\n",
        "    f = os.path.join(directory, filename)\n",
        "    # checking if it is a file\n",
        "    if filename.endswith('.txt'):\n",
        "      continue\n",
        "    else:\n",
        "      filename = filename.split('_')\n",
        "      filename = filename[1].split('.')\n",
        "\n",
        "      dfs[filename[0]] = pd.read_csv(f)"
      ],
      "metadata": {
        "id": "eiPoAAPNPbJ7"
      },
      "execution_count": null,
      "outputs": []
    },
    {
      "cell_type": "code",
      "source": [
        "#confirmed to allocate each region to a dataFrame having correspding region's data\n",
        "for region, data in dfs.items():\n",
        "  print(region)\n",
        "  print(type(data))"
      ],
      "metadata": {
        "id": "Xv1h3CPTaree"
      },
      "execution_count": null,
      "outputs": []
    },
    {
      "cell_type": "code",
      "source": [
        "df_seoul = dfs['서울']\n",
        "df_seoul.columns"
      ],
      "metadata": {
        "id": "rFYslmv7b4UA"
      },
      "execution_count": null,
      "outputs": []
    },
    {
      "cell_type": "code",
      "source": [
        "variables = ['상가업소번호', '상호명',  '위도', '경도', '표준산업분류명', '신우편번호', '층정보', '상권업종소분류명', '도로명주소'] #use the 상권업중소분류명 as target variables"
      ],
      "metadata": {
        "id": "lBxngJksg3tl"
      },
      "execution_count": null,
      "outputs": []
    },
    {
      "cell_type": "code",
      "source": [
        "df_seoul = df_seoul[variables]\n",
        "df_seoul\n",
        "df_seoul.index"
      ],
      "metadata": {
        "id": "MQMHPFqAcWQK",
        "colab": {
          "base_uri": "https://localhost:8080/"
        },
        "outputId": "c581033b-be7e-42a2-b259-4417857af9e6"
      },
      "execution_count": null,
      "outputs": [
        {
          "output_type": "execute_result",
          "data": {
            "text/plain": [
              "RangeIndex(start=0, stop=473762, step=1)"
            ]
          },
          "metadata": {},
          "execution_count": 16
        }
      ]
    },
    {
      "cell_type": "markdown",
      "source": [
        "###Feature engineering\n",
        "For null values in floor information, just replace the null value as 0 and also try to see the number of stores nearby the selected building to see any business with highest frequencies. Also consider 상권업종소분류명 as target variable"
      ],
      "metadata": {
        "id": "HRcrTmARkELY"
      }
    },
    {
      "cell_type": "code",
      "source": [
        "#replace the value NaN value by 1\n",
        "df_seoul['층정보'].fillna(1, inplace = True)\n",
        "df_seoul"
      ],
      "metadata": {
        "id": "pizEOmycjqCl"
      },
      "execution_count": null,
      "outputs": []
    },
    {
      "cell_type": "code",
      "source": [
        "df_seoul.sort_values(['경도', '위도'], ascending = True, inplace = True)\n",
        "df_seoul = df_seoul.reset_index(drop=True)\n",
        "df_seoul"
      ],
      "metadata": {
        "id": "aVu7-WIQyKeN"
      },
      "execution_count": null,
      "outputs": []
    },
    {
      "cell_type": "code",
      "source": [
        "df_seoul.iloc[0]"
      ],
      "metadata": {
        "id": "DfN7iBkpI1Rc"
      },
      "execution_count": null,
      "outputs": []
    },
    {
      "cell_type": "code",
      "source": [
        "#trying to allocate unique business types of that place to df_biz dictionary\n",
        "df_seoul_biz = df_seoul['상권업종소분류명'].unique() #returns list that contains all elements of 상권업종소분류명"
      ],
      "metadata": {
        "id": "CNE28zTfhk5f"
      },
      "execution_count": null,
      "outputs": []
    },
    {
      "cell_type": "code",
      "source": [
        "biz_type = len(df_seoul_biz)\n",
        "print(biz_type)"
      ],
      "metadata": {
        "id": "zbdRmh3gou-h",
        "colab": {
          "base_uri": "https://localhost:8080/"
        },
        "outputId": "f4a0079d-d86a-4923-f016-fc3ff331626d"
      },
      "execution_count": null,
      "outputs": [
        {
          "output_type": "stream",
          "name": "stdout",
          "text": [
            "246\n"
          ]
        }
      ]
    },
    {
      "cell_type": "code",
      "source": [
        "df_seoul"
      ],
      "metadata": {
        "id": "KEkp-n_z0bL2"
      },
      "execution_count": null,
      "outputs": []
    },
    {
      "cell_type": "code",
      "source": [
        "#first of all since there are many corresponding data regarding seoul,lets dive into seoul data first\n",
        "#lets get the data that has 도로명주소(since it implies nearby region) and also the building itself\n",
        " #should i add on random data that shows the ave review and review count\n",
        "rows = df_seoul.shape[0]\n",
        "def create_random_dataframe_with_float_numbers(min_value, max_value, number_of_rows):\n",
        "  \"\"\"Creates a Pandas DataFrame that has random float numbers within the range.\"\"\"\n",
        "  random_floats = [\"{0:.2f}\".format(random.uniform(min_value, max_value)) for i in range(number_of_rows)]\n",
        "  dataframe = pd.DataFrame({\n",
        "    \"random_float\": random_floats\n",
        "  })\n",
        "  return dataframe\n",
        "df_seoul['review'] = create_random_dataframe_with_float_numbers(1, 5, rows)\n",
        "df_seoul['ave_count'] = np.random.randint(1, 10000, (rows, 1))\n",
        "df_seoul"
      ],
      "metadata": {
        "id": "GuGZEk6opeUo"
      },
      "execution_count": null,
      "outputs": []
    },
    {
      "cell_type": "code",
      "source": [
        "biz_type = df_seoul['상권업종소분류명'].unique()"
      ],
      "metadata": {
        "id": "gvE7rmRJLB1L"
      },
      "execution_count": null,
      "outputs": []
    },
    {
      "cell_type": "code",
      "source": [
        "\"\"\"biz_label = dict()\n",
        "for index, biz in enumerate(biz_type):\n",
        "  biz_label[index] = biz\n",
        "biz_label\n",
        "\"\"\"\n"
      ],
      "metadata": {
        "id": "yajvQIPmLoYG"
      },
      "execution_count": null,
      "outputs": []
    },
    {
      "cell_type": "code",
      "source": [
        "from sklearn.preprocessing import LabelEncoder\n",
        "from numpy import dot\n",
        "from numpy.linalg import norm"
      ],
      "metadata": {
        "id": "RKCDhBcCMYI1"
      },
      "execution_count": null,
      "outputs": []
    },
    {
      "cell_type": "code",
      "source": [
        "#use labelencoder to apply hashing numbers on each\n",
        "le = LabelEncoder()\n",
        "df_seoul['상권업종소분류명'] = le.fit_transform(df_seoul['상권업종소분류명'])"
      ],
      "metadata": {
        "id": "oiaKMfryRVa7"
      },
      "execution_count": null,
      "outputs": []
    },
    {
      "cell_type": "code",
      "source": [
        "df_seoul"
      ],
      "metadata": {
        "id": "WlXPWCAKJdWN"
      },
      "execution_count": null,
      "outputs": []
    },
    {
      "cell_type": "code",
      "source": [
        "#checking how the label encoder is enco\n",
        "#classes = le.classes_\n",
        "#print(classes)de\n",
        "#some vectors neeed\n",
        "def decoding(number): #returnes the decoded value of business model when given the encoded number in this function\n",
        "  original_value = le.inverse_transform([number])\n",
        "  return original_value\n",
        "def normalize(data):\n",
        "    '''\n",
        "    Gets dataframe and normalizes input data to be between 0 and 1\n",
        "    '''\n",
        "    min_val = min(data)\n",
        "    if min_val < 0:\n",
        "        data = [x + abs(min_val) for x in data]\n",
        "    max_val = max(data)\n",
        "    return [x/max_val for x in data]\n",
        "def cosine_sim(v1,v2):\n",
        "    '''\n",
        "    Calculates the cosine similarity between two vectors\n",
        "    '''\n",
        "    return dot(v1,v2)/(norm(v1)*norm(v2))\n",
        "def ohe(df, enc_col):\n",
        "    '''\n",
        "    One hot encodes specified columns and adds them back\n",
        "    onto the input dataframe\n",
        "    '''\n",
        "\n",
        "    ohe_df = pd.get_dummies(df[enc_col])\n",
        "    ohe_df.reset_index(drop = True, inplace = True)\n",
        "    return pd.concat([df, ohe_df], axis = 1)"
      ],
      "metadata": {
        "id": "Brbil61NJ6MZ"
      },
      "execution_count": null,
      "outputs": []
    },
    {
      "cell_type": "code",
      "source": [
        "businesses = df_seoul[['위도', '경도', '상권업종소분류명']] #corresponds to name, business_model, 'description'\n",
        "cosine_similarities = businesses.dot(businesses.T) / (businesses.norm(axis=1) * businesses.norm(axis=1).T)"
      ],
      "metadata": {
        "id": "EvugczCPUBVQ"
      },
      "execution_count": null,
      "outputs": []
    }
  ]
}